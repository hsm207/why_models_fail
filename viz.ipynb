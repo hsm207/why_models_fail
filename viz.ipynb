{
 "cells": [
  {
   "cell_type": "markdown",
   "metadata": {},
   "source": [
    "# Imports"
   ]
  },
  {
   "cell_type": "code",
   "execution_count": 3,
   "metadata": {},
   "outputs": [],
   "source": [
    "from main import build_model, normalize_img\n",
    "import tensorflow_datasets as tfds\n",
    "import tensorflow as tf\n",
    "import pandas as pd"
   ]
  },
  {
   "cell_type": "code",
   "execution_count": 4,
   "metadata": {},
   "outputs": [],
   "source": [
    "import matplotlib.pyplot as plt\n",
    "\n",
    "%matplotlib inline"
   ]
  },
  {
   "cell_type": "markdown",
   "metadata": {},
   "source": [
    "# Utility Functions"
   ]
  },
  {
   "cell_type": "code",
   "execution_count": 5,
   "metadata": {},
   "outputs": [],
   "source": [
    "def build_pipelines(num_train_examples, num_test_examples):\n",
    "    \"\"\"\n",
    "    Builds the training and test set\n",
    "    \"\"\"\n",
    "    (ds_train, ds_test), ds_info = tfds.load(\n",
    "        \"mnist\",\n",
    "        split=[\"train\", \"test\"],\n",
    "        shuffle_files=True,\n",
    "        as_supervised=True,\n",
    "        with_info=True,\n",
    "    )\n",
    "\n",
    "    ds_train = ds_train.map(normalize_img, num_parallel_calls=tf.data.AUTOTUNE).take(\n",
    "        num_train_examples\n",
    "    )\n",
    "    ds_train = ds_train.cache()\n",
    "    ds_train = ds_train.shuffle(num_train_examples)\n",
    "    ds_train = ds_train.batch(128)\n",
    "    ds_train = ds_train.prefetch(tf.data.AUTOTUNE)\n",
    "\n",
    "    ds_test = ds_test.map(normalize_img, num_parallel_calls=tf.data.AUTOTUNE).take(\n",
    "        num_test_examples\n",
    "    )\n",
    "    ds_test = ds_test.batch(128)\n",
    "    ds_test = ds_test.cache()\n",
    "    ds_test = ds_test.prefetch(tf.data.AUTOTUNE)\n",
    "\n",
    "    return ds_train, ds_test\n"
   ]
  },
  {
   "cell_type": "code",
   "execution_count": 6,
   "metadata": {},
   "outputs": [],
   "source": [
    "def run_experiment(i, num_train_examples=60000, num_test_examples=10000):\n",
    "    \"\"\"\n",
    "    Trains an model on the MNIST dataset given the number of training and test examples\n",
    "    \"\"\"\n",
    "    print(f\"Running trial {i} with {num_train_examples:,} training examples and {num_test_examples:,} test examples.\")\n",
    "    ds_train, ds_test = build_pipelines(num_train_examples, num_test_examples)\n",
    "    model = build_model()\n",
    "    model.fit(ds_train, epochs=6, validation_data=ds_test, verbose=0)\n",
    "    _, test_accuracy = model.evaluate(ds_test, verbose=0)\n",
    "    return test_accuracy\n"
   ]
  },
  {
   "cell_type": "markdown",
   "metadata": {},
   "source": [
    "# Experiments"
   ]
  },
  {
   "cell_type": "markdown",
   "metadata": {},
   "source": [
    "## Variable training set, fixed test set"
   ]
  },
  {
   "cell_type": "code",
   "execution_count": 7,
   "metadata": {
    "scrolled": true,
    "tags": []
   },
   "outputs": [
    {
     "name": "stdout",
     "output_type": "stream",
     "text": [
      "Running trial 0 with 1,000 training examples and 10,000 test examples.\n",
      "Running trial 1 with 1,000 training examples and 10,000 test examples.\n",
      "Running trial 2 with 1,000 training examples and 10,000 test examples.\n",
      "Running trial 3 with 1,000 training examples and 10,000 test examples.\n",
      "Running trial 4 with 1,000 training examples and 10,000 test examples.\n",
      "Running trial 5 with 1,000 training examples and 10,000 test examples.\n",
      "Running trial 6 with 1,000 training examples and 10,000 test examples.\n",
      "Running trial 7 with 1,000 training examples and 10,000 test examples.\n",
      "Running trial 8 with 1,000 training examples and 10,000 test examples.\n",
      "Running trial 9 with 1,000 training examples and 10,000 test examples.\n",
      "Running trial 10 with 1,000 training examples and 10,000 test examples.\n",
      "Running trial 11 with 1,000 training examples and 10,000 test examples.\n",
      "Running trial 12 with 1,000 training examples and 10,000 test examples.\n",
      "Running trial 13 with 1,000 training examples and 10,000 test examples.\n",
      "Running trial 14 with 1,000 training examples and 10,000 test examples.\n",
      "Running trial 15 with 1,000 training examples and 10,000 test examples.\n",
      "Running trial 16 with 1,000 training examples and 10,000 test examples.\n",
      "Running trial 17 with 1,000 training examples and 10,000 test examples.\n",
      "Running trial 18 with 1,000 training examples and 10,000 test examples.\n",
      "Running trial 19 with 1,000 training examples and 10,000 test examples.\n",
      "Running trial 20 with 1,000 training examples and 10,000 test examples.\n",
      "Running trial 21 with 1,000 training examples and 10,000 test examples.\n",
      "Running trial 22 with 1,000 training examples and 10,000 test examples.\n",
      "Running trial 23 with 1,000 training examples and 10,000 test examples.\n",
      "Running trial 24 with 1,000 training examples and 10,000 test examples.\n",
      "Running trial 25 with 1,000 training examples and 10,000 test examples.\n",
      "Running trial 26 with 1,000 training examples and 10,000 test examples.\n",
      "Running trial 27 with 1,000 training examples and 10,000 test examples.\n",
      "Running trial 28 with 1,000 training examples and 10,000 test examples.\n",
      "Running trial 29 with 1,000 training examples and 10,000 test examples.\n",
      "Running trial 30 with 1,000 training examples and 10,000 test examples.\n",
      "Running trial 31 with 1,000 training examples and 10,000 test examples.\n",
      "Running trial 32 with 1,000 training examples and 10,000 test examples.\n",
      "Running trial 33 with 1,000 training examples and 10,000 test examples.\n",
      "Running trial 34 with 1,000 training examples and 10,000 test examples.\n",
      "Running trial 35 with 1,000 training examples and 10,000 test examples.\n",
      "Running trial 36 with 1,000 training examples and 10,000 test examples.\n",
      "Running trial 37 with 1,000 training examples and 10,000 test examples.\n",
      "Running trial 38 with 1,000 training examples and 10,000 test examples.\n",
      "Running trial 39 with 1,000 training examples and 10,000 test examples.\n",
      "Running trial 40 with 1,000 training examples and 10,000 test examples.\n",
      "Running trial 41 with 1,000 training examples and 10,000 test examples.\n",
      "Running trial 42 with 1,000 training examples and 10,000 test examples.\n",
      "Running trial 43 with 1,000 training examples and 10,000 test examples.\n",
      "Running trial 44 with 1,000 training examples and 10,000 test examples.\n",
      "Running trial 45 with 1,000 training examples and 10,000 test examples.\n",
      "Running trial 46 with 1,000 training examples and 10,000 test examples.\n",
      "Running trial 47 with 1,000 training examples and 10,000 test examples.\n",
      "Running trial 48 with 1,000 training examples and 10,000 test examples.\n",
      "Running trial 49 with 1,000 training examples and 10,000 test examples.\n",
      "Running trial 50 with 1,000 training examples and 10,000 test examples.\n",
      "Running trial 51 with 1,000 training examples and 10,000 test examples.\n",
      "Running trial 52 with 1,000 training examples and 10,000 test examples.\n",
      "Running trial 53 with 1,000 training examples and 10,000 test examples.\n",
      "Running trial 54 with 1,000 training examples and 10,000 test examples.\n",
      "Running trial 55 with 1,000 training examples and 10,000 test examples.\n",
      "Running trial 56 with 1,000 training examples and 10,000 test examples.\n",
      "Running trial 57 with 1,000 training examples and 10,000 test examples.\n",
      "Running trial 58 with 1,000 training examples and 10,000 test examples.\n",
      "Running trial 59 with 1,000 training examples and 10,000 test examples.\n",
      "Running trial 60 with 1,000 training examples and 10,000 test examples.\n",
      "Running trial 61 with 1,000 training examples and 10,000 test examples.\n",
      "Running trial 62 with 1,000 training examples and 10,000 test examples.\n",
      "Running trial 63 with 1,000 training examples and 10,000 test examples.\n",
      "Running trial 64 with 1,000 training examples and 10,000 test examples.\n",
      "Running trial 65 with 1,000 training examples and 10,000 test examples.\n",
      "Running trial 66 with 1,000 training examples and 10,000 test examples.\n",
      "Running trial 67 with 1,000 training examples and 10,000 test examples.\n",
      "Running trial 68 with 1,000 training examples and 10,000 test examples.\n",
      "Running trial 69 with 1,000 training examples and 10,000 test examples.\n",
      "Running trial 70 with 1,000 training examples and 10,000 test examples.\n",
      "Running trial 71 with 1,000 training examples and 10,000 test examples.\n",
      "Running trial 72 with 1,000 training examples and 10,000 test examples.\n",
      "Running trial 73 with 1,000 training examples and 10,000 test examples.\n",
      "Running trial 74 with 1,000 training examples and 10,000 test examples.\n",
      "Running trial 75 with 1,000 training examples and 10,000 test examples.\n",
      "Running trial 76 with 1,000 training examples and 10,000 test examples.\n",
      "Running trial 77 with 1,000 training examples and 10,000 test examples.\n",
      "Running trial 78 with 1,000 training examples and 10,000 test examples.\n",
      "Running trial 79 with 1,000 training examples and 10,000 test examples.\n",
      "Running trial 80 with 1,000 training examples and 10,000 test examples.\n",
      "Running trial 81 with 1,000 training examples and 10,000 test examples.\n",
      "Running trial 82 with 1,000 training examples and 10,000 test examples.\n",
      "Running trial 83 with 1,000 training examples and 10,000 test examples.\n",
      "Running trial 84 with 1,000 training examples and 10,000 test examples.\n",
      "Running trial 85 with 1,000 training examples and 10,000 test examples.\n",
      "Running trial 86 with 1,000 training examples and 10,000 test examples.\n",
      "Running trial 87 with 1,000 training examples and 10,000 test examples.\n",
      "Running trial 88 with 1,000 training examples and 10,000 test examples.\n",
      "Running trial 89 with 1,000 training examples and 10,000 test examples.\n",
      "Running trial 90 with 1,000 training examples and 10,000 test examples.\n",
      "Running trial 91 with 1,000 training examples and 10,000 test examples.\n",
      "Running trial 92 with 1,000 training examples and 10,000 test examples.\n",
      "Running trial 93 with 1,000 training examples and 10,000 test examples.\n",
      "Running trial 94 with 1,000 training examples and 10,000 test examples.\n"
     ]
    },
    {
     "ename": "KeyboardInterrupt",
     "evalue": "",
     "output_type": "error",
     "traceback": [
      "\u001b[0;31m---------------------------------------------------------------------------\u001b[0m",
      "\u001b[0;31mKeyboardInterrupt\u001b[0m                         Traceback (most recent call last)",
      "\u001b[0;32m<timed exec>\u001b[0m in \u001b[0;36m<module>\u001b[0;34m\u001b[0m\n",
      "\u001b[0;32m<timed exec>\u001b[0m in \u001b[0;36m<listcomp>\u001b[0;34m(.0)\u001b[0m\n",
      "\u001b[0;32m<timed exec>\u001b[0m in \u001b[0;36m<listcomp>\u001b[0;34m(.0)\u001b[0m\n",
      "\u001b[0;32m<ipython-input-6-c8e45b24bfc4>\u001b[0m in \u001b[0;36mrun_experiment\u001b[0;34m(i, num_train_examples, num_test_examples)\u001b[0m\n\u001b[1;32m      6\u001b[0m     \u001b[0mds_train\u001b[0m\u001b[0;34m,\u001b[0m \u001b[0mds_test\u001b[0m \u001b[0;34m=\u001b[0m \u001b[0mbuild_pipelines\u001b[0m\u001b[0;34m(\u001b[0m\u001b[0mnum_train_examples\u001b[0m\u001b[0;34m,\u001b[0m \u001b[0mnum_test_examples\u001b[0m\u001b[0;34m)\u001b[0m\u001b[0;34m\u001b[0m\u001b[0;34m\u001b[0m\u001b[0m\n\u001b[1;32m      7\u001b[0m     \u001b[0mmodel\u001b[0m \u001b[0;34m=\u001b[0m \u001b[0mbuild_model\u001b[0m\u001b[0;34m(\u001b[0m\u001b[0;34m)\u001b[0m\u001b[0;34m\u001b[0m\u001b[0;34m\u001b[0m\u001b[0m\n\u001b[0;32m----> 8\u001b[0;31m     \u001b[0mmodel\u001b[0m\u001b[0;34m.\u001b[0m\u001b[0mfit\u001b[0m\u001b[0;34m(\u001b[0m\u001b[0mds_train\u001b[0m\u001b[0;34m,\u001b[0m \u001b[0mepochs\u001b[0m\u001b[0;34m=\u001b[0m\u001b[0;36m6\u001b[0m\u001b[0;34m,\u001b[0m \u001b[0mvalidation_data\u001b[0m\u001b[0;34m=\u001b[0m\u001b[0mds_test\u001b[0m\u001b[0;34m,\u001b[0m \u001b[0mverbose\u001b[0m\u001b[0;34m=\u001b[0m\u001b[0;36m0\u001b[0m\u001b[0;34m)\u001b[0m\u001b[0;34m\u001b[0m\u001b[0;34m\u001b[0m\u001b[0m\n\u001b[0m\u001b[1;32m      9\u001b[0m     \u001b[0m_\u001b[0m\u001b[0;34m,\u001b[0m \u001b[0mtest_accuracy\u001b[0m \u001b[0;34m=\u001b[0m \u001b[0mmodel\u001b[0m\u001b[0;34m.\u001b[0m\u001b[0mevaluate\u001b[0m\u001b[0;34m(\u001b[0m\u001b[0mds_test\u001b[0m\u001b[0;34m,\u001b[0m \u001b[0mverbose\u001b[0m\u001b[0;34m=\u001b[0m\u001b[0;36m0\u001b[0m\u001b[0;34m)\u001b[0m\u001b[0;34m\u001b[0m\u001b[0;34m\u001b[0m\u001b[0m\n\u001b[1;32m     10\u001b[0m     \u001b[0;32mreturn\u001b[0m \u001b[0mtest_accuracy\u001b[0m\u001b[0;34m\u001b[0m\u001b[0;34m\u001b[0m\u001b[0m\n",
      "\u001b[0;32m/usr/local/lib/python3.6/dist-packages/keras/engine/training.py\u001b[0m in \u001b[0;36mfit\u001b[0;34m(self, x, y, batch_size, epochs, verbose, callbacks, validation_split, validation_data, shuffle, class_weight, sample_weight, initial_epoch, steps_per_epoch, validation_steps, validation_batch_size, validation_freq, max_queue_size, workers, use_multiprocessing)\u001b[0m\n\u001b[1;32m   1224\u001b[0m               \u001b[0muse_multiprocessing\u001b[0m\u001b[0;34m=\u001b[0m\u001b[0muse_multiprocessing\u001b[0m\u001b[0;34m,\u001b[0m\u001b[0;34m\u001b[0m\u001b[0;34m\u001b[0m\u001b[0m\n\u001b[1;32m   1225\u001b[0m               \u001b[0mreturn_dict\u001b[0m\u001b[0;34m=\u001b[0m\u001b[0;32mTrue\u001b[0m\u001b[0;34m,\u001b[0m\u001b[0;34m\u001b[0m\u001b[0;34m\u001b[0m\u001b[0m\n\u001b[0;32m-> 1226\u001b[0;31m               _use_cached_eval_dataset=True)\n\u001b[0m\u001b[1;32m   1227\u001b[0m           \u001b[0mval_logs\u001b[0m \u001b[0;34m=\u001b[0m \u001b[0;34m{\u001b[0m\u001b[0;34m'val_'\u001b[0m \u001b[0;34m+\u001b[0m \u001b[0mname\u001b[0m\u001b[0;34m:\u001b[0m \u001b[0mval\u001b[0m \u001b[0;32mfor\u001b[0m \u001b[0mname\u001b[0m\u001b[0;34m,\u001b[0m \u001b[0mval\u001b[0m \u001b[0;32min\u001b[0m \u001b[0mval_logs\u001b[0m\u001b[0;34m.\u001b[0m\u001b[0mitems\u001b[0m\u001b[0;34m(\u001b[0m\u001b[0;34m)\u001b[0m\u001b[0;34m}\u001b[0m\u001b[0;34m\u001b[0m\u001b[0;34m\u001b[0m\u001b[0m\n\u001b[1;32m   1228\u001b[0m           \u001b[0mepoch_logs\u001b[0m\u001b[0;34m.\u001b[0m\u001b[0mupdate\u001b[0m\u001b[0;34m(\u001b[0m\u001b[0mval_logs\u001b[0m\u001b[0;34m)\u001b[0m\u001b[0;34m\u001b[0m\u001b[0;34m\u001b[0m\u001b[0m\n",
      "\u001b[0;32m/usr/local/lib/python3.6/dist-packages/keras/engine/training.py\u001b[0m in \u001b[0;36mevaluate\u001b[0;34m(self, x, y, batch_size, verbose, sample_weight, steps, callbacks, max_queue_size, workers, use_multiprocessing, return_dict, **kwargs)\u001b[0m\n\u001b[1;32m   1499\u001b[0m             \u001b[0;32mwith\u001b[0m \u001b[0mtf\u001b[0m\u001b[0;34m.\u001b[0m\u001b[0mprofiler\u001b[0m\u001b[0;34m.\u001b[0m\u001b[0mexperimental\u001b[0m\u001b[0;34m.\u001b[0m\u001b[0mTrace\u001b[0m\u001b[0;34m(\u001b[0m\u001b[0;34m'test'\u001b[0m\u001b[0;34m,\u001b[0m \u001b[0mstep_num\u001b[0m\u001b[0;34m=\u001b[0m\u001b[0mstep\u001b[0m\u001b[0;34m,\u001b[0m \u001b[0m_r\u001b[0m\u001b[0;34m=\u001b[0m\u001b[0;36m1\u001b[0m\u001b[0;34m)\u001b[0m\u001b[0;34m:\u001b[0m\u001b[0;34m\u001b[0m\u001b[0;34m\u001b[0m\u001b[0m\n\u001b[1;32m   1500\u001b[0m               \u001b[0mcallbacks\u001b[0m\u001b[0;34m.\u001b[0m\u001b[0mon_test_batch_begin\u001b[0m\u001b[0;34m(\u001b[0m\u001b[0mstep\u001b[0m\u001b[0;34m)\u001b[0m\u001b[0;34m\u001b[0m\u001b[0;34m\u001b[0m\u001b[0m\n\u001b[0;32m-> 1501\u001b[0;31m               \u001b[0mtmp_logs\u001b[0m \u001b[0;34m=\u001b[0m \u001b[0mself\u001b[0m\u001b[0;34m.\u001b[0m\u001b[0mtest_function\u001b[0m\u001b[0;34m(\u001b[0m\u001b[0miterator\u001b[0m\u001b[0;34m)\u001b[0m\u001b[0;34m\u001b[0m\u001b[0;34m\u001b[0m\u001b[0m\n\u001b[0m\u001b[1;32m   1502\u001b[0m               \u001b[0;32mif\u001b[0m \u001b[0mdata_handler\u001b[0m\u001b[0;34m.\u001b[0m\u001b[0mshould_sync\u001b[0m\u001b[0;34m:\u001b[0m\u001b[0;34m\u001b[0m\u001b[0;34m\u001b[0m\u001b[0m\n\u001b[1;32m   1503\u001b[0m                 \u001b[0mcontext\u001b[0m\u001b[0;34m.\u001b[0m\u001b[0masync_wait\u001b[0m\u001b[0;34m(\u001b[0m\u001b[0;34m)\u001b[0m\u001b[0;34m\u001b[0m\u001b[0;34m\u001b[0m\u001b[0m\n",
      "\u001b[0;32m/usr/local/lib/python3.6/dist-packages/tensorflow/python/eager/def_function.py\u001b[0m in \u001b[0;36m__call__\u001b[0;34m(self, *args, **kwds)\u001b[0m\n\u001b[1;32m    883\u001b[0m \u001b[0;34m\u001b[0m\u001b[0m\n\u001b[1;32m    884\u001b[0m       \u001b[0;32mwith\u001b[0m \u001b[0mOptionalXlaContext\u001b[0m\u001b[0;34m(\u001b[0m\u001b[0mself\u001b[0m\u001b[0;34m.\u001b[0m\u001b[0m_jit_compile\u001b[0m\u001b[0;34m)\u001b[0m\u001b[0;34m:\u001b[0m\u001b[0;34m\u001b[0m\u001b[0;34m\u001b[0m\u001b[0m\n\u001b[0;32m--> 885\u001b[0;31m         \u001b[0mresult\u001b[0m \u001b[0;34m=\u001b[0m \u001b[0mself\u001b[0m\u001b[0;34m.\u001b[0m\u001b[0m_call\u001b[0m\u001b[0;34m(\u001b[0m\u001b[0;34m*\u001b[0m\u001b[0margs\u001b[0m\u001b[0;34m,\u001b[0m \u001b[0;34m**\u001b[0m\u001b[0mkwds\u001b[0m\u001b[0;34m)\u001b[0m\u001b[0;34m\u001b[0m\u001b[0;34m\u001b[0m\u001b[0m\n\u001b[0m\u001b[1;32m    886\u001b[0m \u001b[0;34m\u001b[0m\u001b[0m\n\u001b[1;32m    887\u001b[0m       \u001b[0mnew_tracing_count\u001b[0m \u001b[0;34m=\u001b[0m \u001b[0mself\u001b[0m\u001b[0;34m.\u001b[0m\u001b[0mexperimental_get_tracing_count\u001b[0m\u001b[0;34m(\u001b[0m\u001b[0;34m)\u001b[0m\u001b[0;34m\u001b[0m\u001b[0;34m\u001b[0m\u001b[0m\n",
      "\u001b[0;32m/usr/local/lib/python3.6/dist-packages/tensorflow/python/eager/def_function.py\u001b[0m in \u001b[0;36m_call\u001b[0;34m(self, *args, **kwds)\u001b[0m\n\u001b[1;32m    922\u001b[0m       \u001b[0;31m# In this case we have not created variables on the first call. So we can\u001b[0m\u001b[0;34m\u001b[0m\u001b[0;34m\u001b[0m\u001b[0;34m\u001b[0m\u001b[0m\n\u001b[1;32m    923\u001b[0m       \u001b[0;31m# run the first trace but we should fail if variables are created.\u001b[0m\u001b[0;34m\u001b[0m\u001b[0;34m\u001b[0m\u001b[0;34m\u001b[0m\u001b[0m\n\u001b[0;32m--> 924\u001b[0;31m       \u001b[0mresults\u001b[0m \u001b[0;34m=\u001b[0m \u001b[0mself\u001b[0m\u001b[0;34m.\u001b[0m\u001b[0m_stateful_fn\u001b[0m\u001b[0;34m(\u001b[0m\u001b[0;34m*\u001b[0m\u001b[0margs\u001b[0m\u001b[0;34m,\u001b[0m \u001b[0;34m**\u001b[0m\u001b[0mkwds\u001b[0m\u001b[0;34m)\u001b[0m\u001b[0;34m\u001b[0m\u001b[0;34m\u001b[0m\u001b[0m\n\u001b[0m\u001b[1;32m    925\u001b[0m       \u001b[0;32mif\u001b[0m \u001b[0mself\u001b[0m\u001b[0;34m.\u001b[0m\u001b[0m_created_variables\u001b[0m \u001b[0;32mand\u001b[0m \u001b[0;32mnot\u001b[0m \u001b[0mALLOW_DYNAMIC_VARIABLE_CREATION\u001b[0m\u001b[0;34m:\u001b[0m\u001b[0;34m\u001b[0m\u001b[0;34m\u001b[0m\u001b[0m\n\u001b[1;32m    926\u001b[0m         raise ValueError(\"Creating variables on a non-first call to a function\"\n",
      "\u001b[0;32m/usr/local/lib/python3.6/dist-packages/tensorflow/python/eager/function.py\u001b[0m in \u001b[0;36m__call__\u001b[0;34m(self, *args, **kwargs)\u001b[0m\n\u001b[1;32m   3038\u001b[0m        filtered_flat_args) = self._maybe_define_function(args, kwargs)\n\u001b[1;32m   3039\u001b[0m     return graph_function._call_flat(\n\u001b[0;32m-> 3040\u001b[0;31m         filtered_flat_args, captured_inputs=graph_function.captured_inputs)  # pylint: disable=protected-access\n\u001b[0m\u001b[1;32m   3041\u001b[0m \u001b[0;34m\u001b[0m\u001b[0m\n\u001b[1;32m   3042\u001b[0m   \u001b[0;34m@\u001b[0m\u001b[0mproperty\u001b[0m\u001b[0;34m\u001b[0m\u001b[0;34m\u001b[0m\u001b[0m\n",
      "\u001b[0;32m/usr/local/lib/python3.6/dist-packages/tensorflow/python/eager/function.py\u001b[0m in \u001b[0;36m_call_flat\u001b[0;34m(self, args, captured_inputs, cancellation_manager)\u001b[0m\n\u001b[1;32m   1962\u001b[0m       \u001b[0;31m# No tape is watching; skip to running the function.\u001b[0m\u001b[0;34m\u001b[0m\u001b[0;34m\u001b[0m\u001b[0;34m\u001b[0m\u001b[0m\n\u001b[1;32m   1963\u001b[0m       return self._build_call_outputs(self._inference_function.call(\n\u001b[0;32m-> 1964\u001b[0;31m           ctx, args, cancellation_manager=cancellation_manager))\n\u001b[0m\u001b[1;32m   1965\u001b[0m     forward_backward = self._select_forward_and_backward_functions(\n\u001b[1;32m   1966\u001b[0m         \u001b[0margs\u001b[0m\u001b[0;34m,\u001b[0m\u001b[0;34m\u001b[0m\u001b[0;34m\u001b[0m\u001b[0m\n",
      "\u001b[0;32m/usr/local/lib/python3.6/dist-packages/tensorflow/python/eager/function.py\u001b[0m in \u001b[0;36mcall\u001b[0;34m(self, ctx, args, cancellation_manager)\u001b[0m\n\u001b[1;32m    594\u001b[0m               \u001b[0minputs\u001b[0m\u001b[0;34m=\u001b[0m\u001b[0margs\u001b[0m\u001b[0;34m,\u001b[0m\u001b[0;34m\u001b[0m\u001b[0;34m\u001b[0m\u001b[0m\n\u001b[1;32m    595\u001b[0m               \u001b[0mattrs\u001b[0m\u001b[0;34m=\u001b[0m\u001b[0mattrs\u001b[0m\u001b[0;34m,\u001b[0m\u001b[0;34m\u001b[0m\u001b[0;34m\u001b[0m\u001b[0m\n\u001b[0;32m--> 596\u001b[0;31m               ctx=ctx)\n\u001b[0m\u001b[1;32m    597\u001b[0m         \u001b[0;32melse\u001b[0m\u001b[0;34m:\u001b[0m\u001b[0;34m\u001b[0m\u001b[0;34m\u001b[0m\u001b[0m\n\u001b[1;32m    598\u001b[0m           outputs = execute.execute_with_cancellation(\n",
      "\u001b[0;32m/usr/local/lib/python3.6/dist-packages/tensorflow/python/eager/execute.py\u001b[0m in \u001b[0;36mquick_execute\u001b[0;34m(op_name, num_outputs, inputs, attrs, ctx, name)\u001b[0m\n\u001b[1;32m     58\u001b[0m     \u001b[0mctx\u001b[0m\u001b[0;34m.\u001b[0m\u001b[0mensure_initialized\u001b[0m\u001b[0;34m(\u001b[0m\u001b[0;34m)\u001b[0m\u001b[0;34m\u001b[0m\u001b[0;34m\u001b[0m\u001b[0m\n\u001b[1;32m     59\u001b[0m     tensors = pywrap_tfe.TFE_Py_Execute(ctx._handle, device_name, op_name,\n\u001b[0;32m---> 60\u001b[0;31m                                         inputs, attrs, num_outputs)\n\u001b[0m\u001b[1;32m     61\u001b[0m   \u001b[0;32mexcept\u001b[0m \u001b[0mcore\u001b[0m\u001b[0;34m.\u001b[0m\u001b[0m_NotOkStatusException\u001b[0m \u001b[0;32mas\u001b[0m \u001b[0me\u001b[0m\u001b[0;34m:\u001b[0m\u001b[0;34m\u001b[0m\u001b[0;34m\u001b[0m\u001b[0m\n\u001b[1;32m     62\u001b[0m     \u001b[0;32mif\u001b[0m \u001b[0mname\u001b[0m \u001b[0;32mis\u001b[0m \u001b[0;32mnot\u001b[0m \u001b[0;32mNone\u001b[0m\u001b[0;34m:\u001b[0m\u001b[0;34m\u001b[0m\u001b[0;34m\u001b[0m\u001b[0m\n",
      "\u001b[0;31mKeyboardInterrupt\u001b[0m: "
     ]
    }
   ],
   "source": [
    "%%time\n",
    "trials = 1000\n",
    "\n",
    "training_size = [1000, 10000, 30000, 60000]\n",
    "test_size = 10000\n",
    "\n",
    "data = [[run_experiment(i, ts, test_size) for i in range(trials)] for ts in training_size]\n",
    "\n",
    "col_names = [str(f\"{i:,}\") for i in training_size]\n",
    "df = pd.DataFrame(data).transpose()\n",
    "df.columns = col_names\n",
    "\n",
    "df.boxplot(col_names, figsize=(10,10))\\\n",
    "    .set(xlabel=\"Training Set Size\", ylabel=\"Test Accuracy\")"
   ]
  },
  {
   "cell_type": "code",
   "execution_count": null,
   "metadata": {},
   "outputs": [],
   "source": []
  }
 ],
 "metadata": {
  "interpreter": {
   "hash": "949777d72b0d2535278d3dc13498b2535136f6dfe0678499012e853ee9abcab1"
  },
  "kernelspec": {
   "display_name": "Python 3",
   "language": "python",
   "name": "python3"
  },
  "language_info": {
   "codemirror_mode": {
    "name": "ipython",
    "version": 3
   },
   "file_extension": ".py",
   "mimetype": "text/x-python",
   "name": "python",
   "nbconvert_exporter": "python",
   "pygments_lexer": "ipython3",
   "version": "3.6.9"
  }
 },
 "nbformat": 4,
 "nbformat_minor": 4
}
